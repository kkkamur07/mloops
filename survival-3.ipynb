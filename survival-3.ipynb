{
 "cells": [
  {
   "cell_type": "markdown",
   "id": "2d6c3cbf",
   "metadata": {},
   "source": [
    "#### Starting with profiling"
   ]
  },
  {
   "cell_type": "code",
   "execution_count": 2,
   "id": "f655e297",
   "metadata": {},
   "outputs": [
    {
     "name": "stdout",
     "output_type": "stream",
     "text": [
      "Mon Jun  2 13:59:27 2025    profile.txt\n",
      "\n",
      "         35967086 function calls (35833582 primitive calls) in 47.472 seconds\n",
      "\n",
      "   Ordered by: cumulative time\n",
      "   List reduced from 10429 to 10 due to restriction <10>\n",
      "\n",
      "   ncalls  tottime  percall  cumtime  percall filename:lineno(function)\n",
      "   4449/1    0.153    0.000   47.478   47.478 {built-in method builtins.exec}\n",
      "        1    0.097    0.097   47.478   47.478 profiling.py:1(<module>)\n",
      "     3006    0.017    0.000   22.665    0.008 /Users/krishuagarwal/Desktop/Programming/python/mlOps/mloops/lib/python3.10/site-packages/torch/utils/data/dataloader.py:728(__next__)\n",
      "     3006    0.123    0.000   22.528    0.007 /Users/krishuagarwal/Desktop/Programming/python/mlOps/mloops/lib/python3.10/site-packages/torch/utils/data/dataloader.py:787(_next_data)\n",
      "     3001    0.010    0.000   22.323    0.007 /Users/krishuagarwal/Desktop/Programming/python/mlOps/mloops/lib/python3.10/site-packages/torch/utils/data/_utils/fetch.py:47(fetch)\n",
      "     3001    0.120    0.000   21.878    0.007 /Users/krishuagarwal/Desktop/Programming/python/mlOps/mloops/lib/python3.10/site-packages/torch/utils/data/_utils/fetch.py:52(<listcomp>)\n",
      "   300100    2.209    0.000   21.759    0.000 /Users/krishuagarwal/Desktop/Programming/python/mlOps/mloops/lib/python3.10/site-packages/torchvision/datasets/mnist.py:131(__getitem__)\n",
      "   300100    0.186    0.000   14.653    0.000 /Users/krishuagarwal/Desktop/Programming/python/mlOps/mloops/lib/python3.10/site-packages/torchvision/transforms/transforms.py:93(__call__)\n",
      "   300100    0.421    0.000   14.467    0.000 /Users/krishuagarwal/Desktop/Programming/python/mlOps/mloops/lib/python3.10/site-packages/torchvision/transforms/transforms.py:129(__call__)\n",
      "   300100    2.087    0.000   14.045    0.000 /Users/krishuagarwal/Desktop/Programming/python/mlOps/mloops/lib/python3.10/site-packages/torchvision/transforms/functional.py:127(to_tensor)\n",
      "\n",
      "\n"
     ]
    },
    {
     "data": {
      "text/plain": [
       "<pstats.Stats at 0x105871780>"
      ]
     },
     "execution_count": 2,
     "metadata": {},
     "output_type": "execute_result"
    }
   ],
   "source": [
    "import pstats\n",
    "p = pstats.Stats('profile.txt')\n",
    "p.sort_stats('cumulative').print_stats(10)"
   ]
  },
  {
   "cell_type": "markdown",
   "id": "611f4064",
   "metadata": {},
   "source": [
    "So basically : \n",
    "- `__next__` is called around `3006` times and per call takes around = 0.008 -> From the dataloader.\n",
    "- `_next_data` is called `3006` times and per call takes around = 0.007 -> From the dataloader.\n",
    "\n",
    "So the iter methods are being called a lot -> Interesting. \n",
    "\n",
    "`totime` : total time spent in functions excluding time spend in subfunctions\n",
    "\n",
    "`cumtime` : total time including time spend in sub functions"
   ]
  },
  {
   "cell_type": "markdown",
   "id": "70bacd06",
   "metadata": {},
   "source": [
    "#### Logging\n",
    "`loguru` is being used."
   ]
  },
  {
   "cell_type": "code",
   "execution_count": 6,
   "id": "d68d6248",
   "metadata": {},
   "outputs": [
    {
     "name": "stderr",
     "output_type": "stream",
     "text": [
      "\u001b[32m2025-06-02 14:31:01.425\u001b[0m | \u001b[1mINFO    \u001b[0m | \u001b[36m__main__\u001b[0m:\u001b[36m<module>\u001b[0m:\u001b[36m2\u001b[0m - \u001b[1mProfile stats printed successfully.\u001b[0m\n",
      "\u001b[32m2025-06-02 14:31:01.426\u001b[0m | \u001b[34m\u001b[1mDEBUG   \u001b[0m | \u001b[36m__main__\u001b[0m:\u001b[36m<module>\u001b[0m:\u001b[36m5\u001b[0m - \u001b[34m\u001b[1mUsed for debugging your code.\u001b[0m\n",
      "\u001b[32m2025-06-02 14:31:01.427\u001b[0m | \u001b[1mINFO    \u001b[0m | \u001b[36m__main__\u001b[0m:\u001b[36m<module>\u001b[0m:\u001b[36m6\u001b[0m - \u001b[1mInformative messages from your code.\u001b[0m\n",
      "\u001b[32m2025-06-02 14:31:01.428\u001b[0m | \u001b[33m\u001b[1mWARNING \u001b[0m | \u001b[36m__main__\u001b[0m:\u001b[36m<module>\u001b[0m:\u001b[36m7\u001b[0m - \u001b[33m\u001b[1mEverything works but there is something to be aware of.\u001b[0m\n",
      "\u001b[32m2025-06-02 14:31:01.429\u001b[0m | \u001b[31m\u001b[1mERROR   \u001b[0m | \u001b[36m__main__\u001b[0m:\u001b[36m<module>\u001b[0m:\u001b[36m8\u001b[0m - \u001b[31m\u001b[1mThere's been a mistake with the process.\u001b[0m\n",
      "\u001b[32m2025-06-02 14:31:01.429\u001b[0m | \u001b[41m\u001b[1mCRITICAL\u001b[0m | \u001b[36m__main__\u001b[0m:\u001b[36m<module>\u001b[0m:\u001b[36m9\u001b[0m - \u001b[41m\u001b[1mThere is something terribly wrong and process may terminate.\u001b[0m\n"
     ]
    }
   ],
   "source": [
    "from loguru import logger\n",
    "logger.info(\"Profile stats printed successfully.\")\n",
    "\n",
    "# some examples of logging\n",
    "logger.debug(\"Used for debugging your code.\")\n",
    "logger.info(\"Informative messages from your code.\")\n",
    "logger.warning(\"Everything works but there is something to be aware of.\")\n",
    "logger.error(\"There's been a mistake with the process.\")\n",
    "logger.critical(\"There is something terribly wrong and process may terminate.\")"
   ]
  },
  {
   "cell_type": "code",
   "execution_count": null,
   "id": "38064899",
   "metadata": {},
   "outputs": [
    {
     "name": "stdout",
     "output_type": "stream",
     "text": [
      "\u001b[32m2025-06-02 14:32:44.603\u001b[0m | \u001b[1mINFO    \u001b[0m | \u001b[36m__main__\u001b[0m:\u001b[36m<module>\u001b[0m:\u001b[36m8\u001b[0m - \u001b[1mInformative messages from your code.\u001b[0m\n",
      "\u001b[32m2025-06-02 14:32:44.608\u001b[0m | \u001b[33m\u001b[1mWARNING \u001b[0m | \u001b[36m__main__\u001b[0m:\u001b[36m<module>\u001b[0m:\u001b[36m9\u001b[0m - \u001b[33m\u001b[1mEverything works but there is something to be aware of.\u001b[0m\n"
     ]
    },
    {
     "name": "stdout",
     "output_type": "stream",
     "text": [
      "\u001b[32m2025-06-02 14:32:44.612\u001b[0m | \u001b[31m\u001b[1mERROR   \u001b[0m | \u001b[36m__main__\u001b[0m:\u001b[36m<module>\u001b[0m:\u001b[36m10\u001b[0m - \u001b[31m\u001b[1mThere's been a mistake with the process.\u001b[0m\n",
      "\u001b[32m2025-06-02 14:32:44.653\u001b[0m | \u001b[41m\u001b[1mCRITICAL\u001b[0m | \u001b[36m__main__\u001b[0m:\u001b[36m<module>\u001b[0m:\u001b[36m11\u001b[0m - \u001b[41m\u001b[1mThere is something terribly wrong and process may terminate.\u001b[0m\n"
     ]
    }
   ],
   "source": [
    "import sys\n",
    "from loguru import logger\n",
    "logger.remove()  # Remove the default logger\n",
    "logger.add(sys.stdout, level=\"INFO\")  # Add a new logger with WARNING level\n",
    "\n",
    "logger.add(\"my_log.log\", level=\"INFO\", rotation=\"100MB\") # It is very easy to log to a file now, rotates it when it reaches 100MB\n",
    "logger.debug(\"Used for debugging your code.\")\n",
    "logger.info(\"Informative messages from your code.\")\n",
    "logger.warning(\"Everything works but there is something to be aware of.\")\n",
    "logger.error(\"There's been a mistake with the process.\")\n",
    "logger.critical(\"There is something terribly wrong and process may terminate.\")"
   ]
  },
  {
   "cell_type": "markdown",
   "id": "5ff82dc7",
   "metadata": {},
   "source": [
    "- `logger.catch()` : for catching and sending errors -> can work with try and catch block\n",
    "- `logger.format()` : for formatting the logging files.\n",
    "\n",
    "\n",
    "\n",
    "#### Experimental Logging"
   ]
  },
  {
   "cell_type": "code",
   "execution_count": 18,
   "id": "ab3190c4",
   "metadata": {},
   "outputs": [
    {
     "ename": "CommError",
     "evalue": "failed to upsert bucket: returned error 403: {\"data\":{\"upsertBucket\":null},\"errors\":[{\"message\":\"permission denied\",\"path\":[\"upsertBucket\"],\"extensions\":{\"code\":\"PERMISSION_ERROR\"}}]}",
     "output_type": "error",
     "traceback": [
      "\u001b[0;31m---------------------------------------------------------------------------\u001b[0m",
      "\u001b[0;31mCommError\u001b[0m                                 Traceback (most recent call last)",
      "Cell \u001b[0;32mIn[18], line 6\u001b[0m\n\u001b[1;32m      3\u001b[0m \u001b[38;5;28;01mimport\u001b[39;00m\u001b[38;5;250m \u001b[39m\u001b[38;5;21;01mwandb\u001b[39;00m\n\u001b[1;32m      5\u001b[0m \u001b[38;5;66;03m# Start a new wandb run to track this script.\u001b[39;00m\n\u001b[0;32m----> 6\u001b[0m run \u001b[38;5;241m=\u001b[39m \u001b[43mwandb\u001b[49m\u001b[38;5;241;43m.\u001b[39;49m\u001b[43minit\u001b[49m\u001b[43m(\u001b[49m\n\u001b[1;32m      7\u001b[0m \u001b[43m    \u001b[49m\u001b[38;5;66;43;03m# Set the wandb entity where your project will be logged (generally your team name).\u001b[39;49;00m\n\u001b[1;32m      8\u001b[0m \u001b[43m    \u001b[49m\u001b[43mentity\u001b[49m\u001b[38;5;241;43m=\u001b[39;49m\u001b[38;5;124;43m\"\u001b[39;49m\u001b[38;5;124;43mnothing\u001b[39;49m\u001b[38;5;124;43m\"\u001b[39;49m\u001b[43m,\u001b[49m\n\u001b[1;32m      9\u001b[0m \u001b[43m    \u001b[49m\u001b[38;5;66;43;03m# Set the wandb project where this run will be logged.\u001b[39;49;00m\n\u001b[1;32m     10\u001b[0m \u001b[43m    \u001b[49m\u001b[43mproject\u001b[49m\u001b[38;5;241;43m=\u001b[39;49m\u001b[38;5;124;43m\"\u001b[39;49m\u001b[38;5;124;43mlearning\u001b[39;49m\u001b[38;5;124;43m\"\u001b[39;49m\u001b[43m,\u001b[49m\n\u001b[1;32m     11\u001b[0m \u001b[43m    \u001b[49m\u001b[38;5;66;43;03m# Track hyperparameters and run metadata.\u001b[39;49;00m\n\u001b[1;32m     12\u001b[0m \u001b[43m    \u001b[49m\u001b[43mconfig\u001b[49m\u001b[38;5;241;43m=\u001b[39;49m\u001b[43m{\u001b[49m\n\u001b[1;32m     13\u001b[0m \u001b[43m        \u001b[49m\u001b[38;5;124;43m\"\u001b[39;49m\u001b[38;5;124;43mlearning_rate\u001b[39;49m\u001b[38;5;124;43m\"\u001b[39;49m\u001b[43m:\u001b[49m\u001b[43m \u001b[49m\u001b[38;5;241;43m0.02\u001b[39;49m\u001b[43m,\u001b[49m\n\u001b[1;32m     14\u001b[0m \u001b[43m        \u001b[49m\u001b[38;5;124;43m\"\u001b[39;49m\u001b[38;5;124;43marchitecture\u001b[39;49m\u001b[38;5;124;43m\"\u001b[39;49m\u001b[43m:\u001b[49m\u001b[43m \u001b[49m\u001b[38;5;124;43m\"\u001b[39;49m\u001b[38;5;124;43mCNN\u001b[39;49m\u001b[38;5;124;43m\"\u001b[39;49m\u001b[43m,\u001b[49m\n\u001b[1;32m     15\u001b[0m \u001b[43m        \u001b[49m\u001b[38;5;124;43m\"\u001b[39;49m\u001b[38;5;124;43mdataset\u001b[39;49m\u001b[38;5;124;43m\"\u001b[39;49m\u001b[43m:\u001b[49m\u001b[43m \u001b[49m\u001b[38;5;124;43m\"\u001b[39;49m\u001b[38;5;124;43mCIFAR-100\u001b[39;49m\u001b[38;5;124;43m\"\u001b[39;49m\u001b[43m,\u001b[49m\n\u001b[1;32m     16\u001b[0m \u001b[43m        \u001b[49m\u001b[38;5;124;43m\"\u001b[39;49m\u001b[38;5;124;43mepochs\u001b[39;49m\u001b[38;5;124;43m\"\u001b[39;49m\u001b[43m:\u001b[49m\u001b[43m \u001b[49m\u001b[38;5;241;43m10\u001b[39;49m\u001b[43m,\u001b[49m\n\u001b[1;32m     17\u001b[0m \u001b[43m    \u001b[49m\u001b[43m}\u001b[49m\u001b[43m,\u001b[49m\n\u001b[1;32m     18\u001b[0m \u001b[43m)\u001b[49m\n\u001b[1;32m     20\u001b[0m \u001b[38;5;66;03m# Simulate training.\u001b[39;00m\n\u001b[1;32m     21\u001b[0m epochs \u001b[38;5;241m=\u001b[39m \u001b[38;5;241m10\u001b[39m\n",
      "File \u001b[0;32m~/Desktop/Programming/python/mlOps/mloops/lib/python3.10/site-packages/wandb/sdk/wandb_init.py:1691\u001b[0m, in \u001b[0;36minit\u001b[0;34m(entity, project, dir, id, name, notes, tags, config, config_exclude_keys, config_include_keys, allow_val_change, group, job_type, mode, force, anonymous, reinit, resume, resume_from, fork_from, save_code, tensorboard, sync_tensorboard, monitor_gym, settings)\u001b[0m\n\u001b[1;32m   1687\u001b[0m     wl\u001b[38;5;241m.\u001b[39m_get_logger()\u001b[38;5;241m.\u001b[39mexception(\u001b[38;5;124m\"\u001b[39m\u001b[38;5;124merror in wandb.init()\u001b[39m\u001b[38;5;124m\"\u001b[39m, exc_info\u001b[38;5;241m=\u001b[39me)\n\u001b[1;32m   1689\u001b[0m \u001b[38;5;66;03m# Need to build delay into this sentry capture because our exit hooks\u001b[39;00m\n\u001b[1;32m   1690\u001b[0m \u001b[38;5;66;03m# mess with sentry's ability to send out errors before the program ends.\u001b[39;00m\n\u001b[0;32m-> 1691\u001b[0m \u001b[43mwandb\u001b[49m\u001b[38;5;241;43m.\u001b[39;49m\u001b[43m_sentry\u001b[49m\u001b[38;5;241;43m.\u001b[39;49m\u001b[43mreraise\u001b[49m\u001b[43m(\u001b[49m\u001b[43me\u001b[49m\u001b[43m)\u001b[49m\n\u001b[1;32m   1692\u001b[0m \u001b[38;5;28;01mraise\u001b[39;00m \u001b[38;5;167;01mAssertionError\u001b[39;00m()\n",
      "File \u001b[0;32m~/Desktop/Programming/python/mlOps/mloops/lib/python3.10/site-packages/wandb/analytics/sentry.py:156\u001b[0m, in \u001b[0;36mSentry.reraise\u001b[0;34m(self, exc)\u001b[0m\n\u001b[1;32m    153\u001b[0m \u001b[38;5;28mself\u001b[39m\u001b[38;5;241m.\u001b[39mexception(exc)\n\u001b[1;32m    154\u001b[0m \u001b[38;5;66;03m# this will messily add this \"reraise\" function to the stack trace,\u001b[39;00m\n\u001b[1;32m    155\u001b[0m \u001b[38;5;66;03m# but hopefully it's not too bad\u001b[39;00m\n\u001b[0;32m--> 156\u001b[0m \u001b[38;5;28;01mraise\u001b[39;00m exc\u001b[38;5;241m.\u001b[39mwith_traceback(sys\u001b[38;5;241m.\u001b[39mexc_info()[\u001b[38;5;241m2\u001b[39m])\n",
      "File \u001b[0;32m~/Desktop/Programming/python/mlOps/mloops/lib/python3.10/site-packages/wandb/sdk/wandb_init.py:1677\u001b[0m, in \u001b[0;36minit\u001b[0;34m(entity, project, dir, id, name, notes, tags, config, config_exclude_keys, config_include_keys, allow_val_change, group, job_type, mode, force, anonymous, reinit, resume, resume_from, fork_from, save_code, tensorboard, sync_tensorboard, monitor_gym, settings)\u001b[0m\n\u001b[1;32m   1674\u001b[0m         \u001b[38;5;28;01mif\u001b[39;00m run_settings\u001b[38;5;241m.\u001b[39mx_server_side_derived_summary:\n\u001b[1;32m   1675\u001b[0m             init_telemetry\u001b[38;5;241m.\u001b[39mfeature\u001b[38;5;241m.\u001b[39mserver_side_derived_summary \u001b[38;5;241m=\u001b[39m \u001b[38;5;28;01mTrue\u001b[39;00m\n\u001b[0;32m-> 1677\u001b[0m         \u001b[38;5;28;01mreturn\u001b[39;00m \u001b[43mwi\u001b[49m\u001b[38;5;241;43m.\u001b[39;49m\u001b[43minit\u001b[49m\u001b[43m(\u001b[49m\u001b[43mrun_settings\u001b[49m\u001b[43m,\u001b[49m\u001b[43m \u001b[49m\u001b[43mrun_config\u001b[49m\u001b[43m,\u001b[49m\u001b[43m \u001b[49m\u001b[43mrun_printer\u001b[49m\u001b[43m)\u001b[49m\n\u001b[1;32m   1679\u001b[0m \u001b[38;5;28;01mexcept\u001b[39;00m \u001b[38;5;167;01mKeyboardInterrupt\u001b[39;00m \u001b[38;5;28;01mas\u001b[39;00m e:\n\u001b[1;32m   1680\u001b[0m     \u001b[38;5;28;01mif\u001b[39;00m wl:\n",
      "File \u001b[0;32m~/Desktop/Programming/python/mlOps/mloops/lib/python3.10/site-packages/wandb/sdk/wandb_init.py:1077\u001b[0m, in \u001b[0;36m_WandbInit.init\u001b[0;34m(self, settings, config, run_printer)\u001b[0m\n\u001b[1;32m   1074\u001b[0m \u001b[38;5;28;01massert\u001b[39;00m result\u001b[38;5;241m.\u001b[39mrun_result\n\u001b[1;32m   1076\u001b[0m \u001b[38;5;28;01mif\u001b[39;00m error \u001b[38;5;241m:=\u001b[39m ProtobufErrorHandler\u001b[38;5;241m.\u001b[39mto_exception(result\u001b[38;5;241m.\u001b[39mrun_result\u001b[38;5;241m.\u001b[39merror):\n\u001b[0;32m-> 1077\u001b[0m     \u001b[38;5;28;01mraise\u001b[39;00m error\n\u001b[1;32m   1079\u001b[0m \u001b[38;5;28;01mif\u001b[39;00m \u001b[38;5;129;01mnot\u001b[39;00m result\u001b[38;5;241m.\u001b[39mrun_result\u001b[38;5;241m.\u001b[39mHasField(\u001b[38;5;124m\"\u001b[39m\u001b[38;5;124mrun\u001b[39m\u001b[38;5;124m\"\u001b[39m):\n\u001b[1;32m   1080\u001b[0m     \u001b[38;5;28;01mraise\u001b[39;00m Error(\u001b[38;5;124m\"\u001b[39m\u001b[38;5;124mAssertion failed: run_result is missing the run field\u001b[39m\u001b[38;5;124m\"\u001b[39m)\n",
      "\u001b[0;31mCommError\u001b[0m: failed to upsert bucket: returned error 403: {\"data\":{\"upsertBucket\":null},\"errors\":[{\"message\":\"permission denied\",\"path\":[\"upsertBucket\"],\"extensions\":{\"code\":\"PERMISSION_ERROR\"}}]}"
     ]
    }
   ],
   "source": [
    "import random\n",
    "\n",
    "import wandb\n",
    "\n",
    "# Start a new wandb run to track this script.\n",
    "run = wandb.init(\n",
    "    # Set the wandb entity where your project will be logged (generally your team name).\n",
    "    entity=\"nothing\",\n",
    "    # Set the wandb project where this run will be logged.\n",
    "    project=\"learning\",\n",
    "    # Track hyperparameters and run metadata.\n",
    "    config={\n",
    "        \"learning_rate\": 0.02,\n",
    "        \"architecture\": \"CNN\",\n",
    "        \"dataset\": \"CIFAR-100\",\n",
    "        \"epochs\": 10,\n",
    "    },\n",
    ")\n",
    "\n",
    "# Simulate training.\n",
    "epochs = 10\n",
    "offset = random.random() / 5\n",
    "for epoch in range(2, epochs):\n",
    "    acc = 1 - 2**-epoch - random.random() / epoch - offset\n",
    "    loss = 2**-epoch + random.random() / epoch + offset\n",
    "\n",
    "    # Log metrics to wandb.\n",
    "    run.log({\"acc\": acc, \"loss\": loss})\n",
    "\n",
    "# Finish the run and upload any remaining data.\n",
    "run.finish()"
   ]
  }
 ],
 "metadata": {
  "kernelspec": {
   "display_name": "mloops",
   "language": "python",
   "name": "python3"
  },
  "language_info": {
   "codemirror_mode": {
    "name": "ipython",
    "version": 3
   },
   "file_extension": ".py",
   "mimetype": "text/x-python",
   "name": "python",
   "nbconvert_exporter": "python",
   "pygments_lexer": "ipython3",
   "version": "3.10.11"
  }
 },
 "nbformat": 4,
 "nbformat_minor": 5
}
