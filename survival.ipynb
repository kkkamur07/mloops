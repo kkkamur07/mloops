{
 "cells": [
  {
   "cell_type": "markdown",
   "id": "6f25b35c",
   "metadata": {},
   "source": [
    "## Tensors\n",
    "\n",
    "High level abstractions for the data.\n",
    "\n",
    "Deep learning is basically a lot of mathematics."
   ]
  },
  {
   "cell_type": "code",
   "execution_count": 25,
   "id": "25af3f2c",
   "metadata": {},
   "outputs": [],
   "source": [
    "import torch\n",
    "import helper\n",
    "import matplotlib.pyplot as plt\n",
    "import torch"
   ]
  },
  {
   "cell_type": "code",
   "execution_count": 2,
   "id": "26fb64a2",
   "metadata": {},
   "outputs": [],
   "source": [
    "# activation function\n",
    "\n",
    "def sigmoid(x) : \n",
    "    return 1 / (1 + torch.exp(-x))\n"
   ]
  },
  {
   "cell_type": "markdown",
   "id": "60f80077",
   "metadata": {},
   "source": [
    "### Matrix Multiplication\n",
    "\n",
    "$$\n",
    "\\begin{align}\n",
    "y &= f(w_1 x_1 + w_2 x_2 + b) \\\\\n",
    "y &= f\\left(\\sum_i w_i x_i +b \\right)\n",
    "\\end{align}\n",
    "$$\n",
    "\n",
    "With vectors this is the dot/inner product of two vectors:\n",
    "\n",
    "$$\n",
    "h = \\begin{bmatrix}\n",
    "x_1 \\, x_2 \\cdots  x_n\n",
    "\\end{bmatrix}\n",
    "\\cdot \n",
    "\\begin{bmatrix}\n",
    "           w_1 \\\\\n",
    "           w_2 \\\\\n",
    "           \\vdots \\\\\n",
    "           w_n\n",
    "\\end{bmatrix}\n",
    "$$\n",
    "\n",
    "Here we see that features are Row matrix and the weights are the column matrix. "
   ]
  },
  {
   "cell_type": "code",
   "execution_count": 3,
   "id": "3bb68197",
   "metadata": {},
   "outputs": [
    {
     "data": {
      "text/plain": [
       "tensor([[0.1595]])"
      ]
     },
     "execution_count": 3,
     "metadata": {},
     "output_type": "execute_result"
    }
   ],
   "source": [
    "# generate some data\n",
    "torch.manual_seed(7)\n",
    "\n",
    "\n",
    "features = torch.randn((1,5)) # tensor of shape (1,5)\n",
    "weights = torch.randn_like(features) # tensor of shape (1,5)\n",
    "bias = torch.randn((1,1)) # tensor of shape (1,1)\n",
    "\n",
    "# compute the output : featurs @ weights.T + bias\n",
    "\n",
    "output = sigmoid(features @ weights.T + bias) \n",
    "output"
   ]
  },
  {
   "cell_type": "markdown",
   "id": "bd832172",
   "metadata": {},
   "source": [
    "### Functions for reshaping\n",
    "1. `weights.reshape(a,b)`\n",
    "2. `weights.view(a,b)`\n",
    "3. `torch.transpose(weights, 0, 1)`\n",
    "\n",
    "\n",
    "Matrix multiplication was simple, but the power comes when you _stack_ layers upon layers, because using the universal function of generalization -> This can converge to anything.\n",
    "\n",
    "#### Some Maths\n",
    "Inputs : $x_1, x_2, x_3$\n",
    "Layer1 : $h_1, h_2$\n",
    "Layer2 : $m_1, m_2$\n",
    "Output : $y_1$\n",
    "\n",
    "$h_i = a(\\sum_i(w_i*x_i) + b_1)$\n",
    "\n",
    "$m_i = a(\\sum_i(w_i*h_i) + b_2)$\n",
    "\n",
    "$y_1 = \\sum_i(w_i*m_i) + b_3$\n",
    "\n",
    "Basically like $y_1 = \\sum_i(w_i*a(\\sum_i(w_i*a(\\sum_i(w_i*x_i) + b_1)) + b_2)) + b_3$\n"
   ]
  },
  {
   "cell_type": "code",
   "execution_count": 4,
   "id": "49a1185d",
   "metadata": {},
   "outputs": [
    {
     "data": {
      "text/plain": [
       "tensor([[0.3531]])"
      ]
     },
     "execution_count": 4,
     "metadata": {},
     "output_type": "execute_result"
    }
   ],
   "source": [
    "# Generate some data\n",
    "torch.manual_seed(7)\n",
    "\n",
    "features = torch.randn((1,3)) # tensor of shape (1,5)\n",
    "n_input = features.shape[1] # 5\n",
    "n_hidden_1 = 2\n",
    "n_hidden_2 = 4\n",
    "n_hidden_3 = 5\n",
    "n_output = 1\n",
    "\n",
    "# Initialize weights and biases\n",
    "W1 = torch.randn((n_input, n_hidden_1)) # (input, output)\n",
    "W2 = torch.randn((n_hidden_1, n_hidden_2)) # (input, output)\n",
    "W3 = torch.randn((n_hidden_2, n_hidden_3)) # (input, output)\n",
    "W4 = torch.randn((n_hidden_3, n_output)) # (input, output)\n",
    "\n",
    "B1 = torch.randn((1, n_hidden_1))\n",
    "B2 = torch.randn((1, n_hidden_2))\n",
    "B3 = torch.randn((1, n_hidden_3))\n",
    "B4 = torch.randn((1,n_output))\n",
    "\n",
    "# Compute the output -> Works Error less\n",
    "hidden_1 = sigmoid(features @ W1 + B1)\n",
    "hidden_2 = sigmoid(hidden_1 @ W2 + B2)\n",
    "hidden_3 = sigmoid(hidden_2 @ W3 + B3)\n",
    "output = sigmoid(hidden_3 @ W4 + B4)\n",
    "output \n"
   ]
  },
  {
   "cell_type": "markdown",
   "id": "4d3e4571",
   "metadata": {},
   "source": [
    "Cracked it. We need to structure the matrix not row wise like $h_i = \\sum_i(w_i * x_i)$ where $x_i$ are the columns, what we should do instead is basically get then column wise because then it becomes easier to structure. \n",
    "\n",
    "As in it becomes `(input, output)` to the particular layer, as evident in the previous layers.\n",
    "\n",
    "#### Torch to Numpy\n",
    "- `torch.from_numpy(a)` : from numpy\n",
    "- `b.numpy` : to numpy\n",
    "\n",
    "As you do this the memory becomes shared, suppose a = b.numpy(), any changes to b will lead changes to a, if you use `mul_`"
   ]
  },
  {
   "cell_type": "code",
   "execution_count": 5,
   "id": "62a8273c",
   "metadata": {},
   "outputs": [],
   "source": [
    "import numpy as np\n",
    "\n",
    "a = np.random.randn(3,4)\n",
    "b = torch.from_numpy(a)\n"
   ]
  },
  {
   "cell_type": "markdown",
   "id": "8df2a2f9",
   "metadata": {},
   "source": [
    "## Neural Networks with Pytorch\n",
    "\n",
    "Growing the network is going to be cumbersome as you could see 10-12 layers, definetly a lot cumbersome. So we will use `torch.nn` -> which could help us"
   ]
  },
  {
   "cell_type": "code",
   "execution_count": 6,
   "id": "0f7b0a2c",
   "metadata": {},
   "outputs": [],
   "source": [
    "%matplotlib inline\n",
    "%config InlineBackend.figure_format = \"retina\"\n",
    "\n",
    "import helper\n",
    "import matplotlib.pyplot as plt\n",
    "from torchvision import datasets, transforms\n",
    "import torch\n",
    "import numpy as np"
   ]
  },
  {
   "cell_type": "code",
   "execution_count": 7,
   "id": "53cdde45",
   "metadata": {},
   "outputs": [],
   "source": [
    "import torch.utils\n",
    "\n",
    "\n",
    "transform = transforms.Compose([\n",
    "    transforms.ToTensor(),\n",
    "    transforms.Normalize((0.5, ), (0.5,))\n",
    "])\n",
    "\n",
    "# Download dataset\n",
    "trainset = datasets.MNIST(\"~/MNIST_data\",download=True, train=True, transform=transform)\n",
    "trainLoader = torch.utils.data.DataLoader(trainset, batch_size=64, shuffle = True)"
   ]
  },
  {
   "cell_type": "code",
   "execution_count": 8,
   "id": "80a379fe",
   "metadata": {},
   "outputs": [
    {
     "name": "stdout",
     "output_type": "stream",
     "text": [
      "<class 'torch.Tensor'>\n",
      "torch.Size([64, 1, 28, 28])\n",
      "torch.Size([64])\n"
     ]
    }
   ],
   "source": [
    "dataiter = iter(trainLoader)\n",
    "images, labels = next(dataiter)\n",
    "print(type(images))\n",
    "print(images.shape)\n",
    "print(labels.shape)"
   ]
  },
  {
   "cell_type": "code",
   "execution_count": 9,
   "id": "12521e11",
   "metadata": {},
   "outputs": [
    {
     "data": {
      "image/png": "[encoded data removed]",
      "text/plain": [
       "<Figure size 640x480 with 1 Axes>"
      ]
     },
     "metadata": {
      "image/png": {
       "height": 413,
       "width": 417
      }
     },
     "output_type": "display_data"
    }
   ],
   "source": [
    "plt.imshow(images[1].numpy().squeeze(), cmap = \"Greys_r\")\n",
    "plt.show()"
   ]
  },
  {
   "cell_type": "markdown",
   "id": "9eef9c36",
   "metadata": {},
   "source": [
    "Fully connected networks, takes your every input for their output, so a grid like 28*28 must be translated into 784. Considering the batch as well the input is going to be 64 * 784"
   ]
  },
  {
   "cell_type": "code",
   "execution_count": 10,
   "id": "7a24a384",
   "metadata": {},
   "outputs": [],
   "source": [
    "# Network\n",
    "\n",
    "def activation(x) : \n",
    "    \"\"\"Sigmoid Activation\"\"\"\n",
    "\n",
    "    return 1/(1+torch.exp(-x))\n",
    "\n",
    "def multilayer_net(n_inputs, n_hidden, n_output) : \n",
    "    torch.manual_seed(7)\n",
    "\n",
    "    # weights and biases\n",
    "    W1 = torch.randn(n_inputs, n_hidden) # 784 * 256\n",
    "    W2 = torch.randn(n_hidden, n_output) # 256 * 10\n",
    "    B1 = torch.randn((1, n_hidden)) # 1 * 256\n",
    "    B2 = torch.randn((1, n_output)) # 1 * 10\n",
    "\n",
    "    return W1, W2, B1, B2\n",
    "\n",
    "def output(features, w1, w2, b1, b2) : \n",
    "    h = activation(features @ w1 + b1) # (64, 784) * (784 * 256)\n",
    "    return activation(h @ w2 + b2) # (64 * 256) * (256 * 10)\n",
    "\n",
    "# Working\n",
    "features = torch.flatten(images, start_dim = 1) # Flattens 3 Dimensions\n",
    "w1, w2, b1, b2 = multilayer_net(features.shape[1], 256, 10 )\n",
    "\n",
    "out = output(features, w1, w2, b1, b2)\n",
    "nums_out = torch.arange(0,10)\n",
    "\n",
    "# Futile efforts of plotting\n",
    "# figure, ax = plt.subplots(1, 2, figsize = (4, 8))\n",
    "# ax[0].imshow(images[1, :, :, :].numpy().squeeze(), cmap = \"Greys_r\")\n",
    "# digit_labels = range(10)  # 0-9 digits\n",
    "# ax[1].bar(out[1, :], digit_labels)\n",
    "# plt.show()"
   ]
  },
  {
   "cell_type": "markdown",
   "id": "787324a7",
   "metadata": {},
   "source": [
    "Random intialization doesn't guarantee that our networks will predict well, they need to be trained right. We will not calculate the probability for each of the numbers occuring using softmax\n",
    "\n",
    "$\\sigma_(x_i) = \\frac{\\exp_(x_i)}{\\sum_k{\\exp_(x_k)}}$"
   ]
  },
  {
   "cell_type": "code",
   "execution_count": null,
   "id": "29942de1",
   "metadata": {},
   "outputs": [
    {
     "data": {
      "text/plain": [
       "Network(\n",
       "  (hidden): Linear(in_features=784, out_features=256, bias=True)\n",
       "  (output): Linear(in_features=256, out_features=10, bias=True)\n",
       ")"
      ]
     },
     "execution_count": 11,
     "metadata": {},
     "output_type": "execute_result"
    }
   ],
   "source": [
    "from torch import nn\n",
    "from torch.nn.functional import sigmoid, softmax # Robust implementation\n",
    "\n",
    "def softmax(x) : \n",
    "    x_exp = torch.exp(x)\n",
    "    return x_exp / torch.sum(x_exp, dim = 1, keepdim=True)\n",
    "    \n",
    "class Network(nn.Module) : \n",
    "    def __init__(self, num_input, num_output, num_hidden) : \n",
    "        super().__init__()\n",
    "        self.hidden = nn.Linear(num_input, num_hidden) # Linear Transformation\n",
    "        self.output = nn.Linear(num_hidden, num_output) # Linear Transformation\n",
    "       # self.sigmoid = nn.Sigmoid() # Sigmoid Function\n",
    "       # self.softmax = nn.Softmax(dim = 1) # Softmax\n",
    "\n",
    "    def forward(self, x) : # Must have a forward method defined.\n",
    "        \"\"\"Forward Pass\"\"\"\n",
    "\n",
    "        x = self.hidden(x)\n",
    "        # x = self.sigmoid(x)\n",
    "        x = sigmoid(x)\n",
    "        x = self.output(x)\n",
    "        # return self.softmax(x)\n",
    "        return softmax(x)\n",
    "\n",
    "\n",
    "net = Network(784, 10, 256)\n",
    "out = net.forward(features)\n",
    "net\n",
    "\n"
   ]
  },
  {
   "cell_type": "markdown",
   "id": "49bc0432",
   "metadata": {},
   "source": [
    "You can get the weights and bias via : \n",
    "- `nn.Linear(input, output)` has attributes weight and bias\n",
    "  - `fc1 = nn.Linear(input, output)`, we can access `fc1.weight` & `fc1.bias`\n",
    "\n",
    "\n",
    "Good for our person initialization -> Xavier initialization"
   ]
  },
  {
   "cell_type": "code",
   "execution_count": 43,
   "id": "9749ea35",
   "metadata": {},
   "outputs": [
    {
     "name": "stdout",
     "output_type": "stream",
     "text": [
      "Sequential(\n",
      "  (0): Linear(in_features=784, out_features=256, bias=True)\n",
      "  (1): ReLU()\n",
      "  (2): Linear(in_features=256, out_features=128, bias=True)\n",
      "  (3): ReLU()\n",
      "  (4): Linear(in_features=128, out_features=64, bias=True)\n",
      "  (5): ReLU()\n",
      "  (6): Linear(in_features=64, out_features=10, bias=True)\n",
      "  (7): ReLU()\n",
      "  (8): Softmax(dim=1)\n",
      ")\n"
     ]
    }
   ],
   "source": [
    "input_size = 784\n",
    "hidden_sizes = [256, 128, 64]\n",
    "output_size = 10\n",
    "\n",
    "model = nn.Sequential(\n",
    "    nn.Linear(input_size, hidden_sizes[0]), \n",
    "    nn.ReLU(),\n",
    "    nn.Linear(hidden_sizes[0], hidden_sizes[1]),\n",
    "    nn.ReLU(), \n",
    "    nn.Linear(hidden_sizes[1], hidden_sizes[2]), \n",
    "    nn.ReLU(), \n",
    "    nn.Linear(hidden_sizes[2], output_size), \n",
    "    nn.ReLU(),\n",
    "    nn.Softmax(dim = 1)\n",
    ")\n",
    "\n",
    "print(model)\n",
    "\n",
    "# forward pass\n",
    "images, labels = next(iter(trainLoader))\n",
    "images.resize_(images.shape[0], 1, 784)\n",
    "ps = model.forward(images[0, :])"
   ]
  },
  {
   "cell_type": "code",
   "execution_count": null,
   "id": "02f76b27",
   "metadata": {},
   "outputs": [],
   "source": [
    "import sys\n",
    "sys.path.append('/Users/krishuagarwal/Desktop/Programming/python/deep-learning')\n",
    "\n"
   ]
  },
  {
   "cell_type": "code",
   "execution_count": 58,
   "id": "d1ec3579",
   "metadata": {},
   "outputs": [
    {
     "data": {
      "image/png": "[encoded data removed]",
      "text/plain": [
       "<Figure size 600x900 with 2 Axes>"
      ]
     },
     "metadata": {
      "image/png": {
       "height": 327,
       "width": 589
      }
     },
     "output_type": "display_data"
    }
   ],
   "source": [
    "from mlOps.s1.helper import view_classify\n",
    "\n",
    "view_classify(images[0].view(1, 28,28), ps)"
   ]
  },
  {
   "cell_type": "markdown",
   "id": "ac0ae449",
   "metadata": {},
   "source": [
    "Nothing as such, spits out almost equivalent."
   ]
  },
  {
   "cell_type": "code",
   "execution_count": 71,
   "id": "b301e3f1",
   "metadata": {},
   "outputs": [
    {
     "data": {
      "text/plain": [
       "Parameter containing:\n",
       "tensor([-0.0302, -0.0062,  0.0268, -0.0074, -0.0127, -0.0106,  0.0123,  0.0177,\n",
       "        -0.0135, -0.0131, -0.0225,  0.0068,  0.0340, -0.0084, -0.0340, -0.0194,\n",
       "         0.0264, -0.0334, -0.0296, -0.0175, -0.0050,  0.0210, -0.0340,  0.0070,\n",
       "        -0.0185, -0.0186, -0.0081, -0.0347,  0.0239,  0.0346, -0.0135,  0.0127,\n",
       "        -0.0249, -0.0241, -0.0027,  0.0289, -0.0017,  0.0227,  0.0039,  0.0048,\n",
       "         0.0119,  0.0299, -0.0073, -0.0005,  0.0216,  0.0261,  0.0338, -0.0119,\n",
       "         0.0238,  0.0121,  0.0286,  0.0101, -0.0275,  0.0218,  0.0193, -0.0103,\n",
       "         0.0272, -0.0110, -0.0086,  0.0114, -0.0244,  0.0283,  0.0257, -0.0066,\n",
       "         0.0205, -0.0160,  0.0340,  0.0278,  0.0004, -0.0268, -0.0298,  0.0316,\n",
       "         0.0106, -0.0056,  0.0219,  0.0192, -0.0080, -0.0120, -0.0075, -0.0178,\n",
       "         0.0355, -0.0268,  0.0130, -0.0043,  0.0101, -0.0309,  0.0263,  0.0228,\n",
       "        -0.0088,  0.0306, -0.0299,  0.0023, -0.0319,  0.0187,  0.0023,  0.0104,\n",
       "         0.0214, -0.0192, -0.0040,  0.0351, -0.0169, -0.0048, -0.0082, -0.0344,\n",
       "        -0.0217,  0.0077, -0.0036,  0.0149,  0.0074,  0.0317,  0.0341, -0.0352,\n",
       "         0.0120, -0.0205, -0.0202,  0.0082, -0.0204, -0.0152, -0.0209, -0.0129,\n",
       "        -0.0099,  0.0193, -0.0348, -0.0154, -0.0234, -0.0243, -0.0267, -0.0299,\n",
       "        -0.0266,  0.0296,  0.0048, -0.0312,  0.0208,  0.0051, -0.0014,  0.0217,\n",
       "         0.0216, -0.0064, -0.0193, -0.0041, -0.0232, -0.0144, -0.0154, -0.0016,\n",
       "        -0.0036,  0.0063,  0.0262,  0.0189, -0.0103,  0.0181, -0.0174, -0.0187,\n",
       "         0.0099, -0.0060, -0.0201, -0.0136, -0.0017, -0.0021,  0.0220,  0.0112,\n",
       "         0.0222, -0.0210,  0.0190, -0.0122, -0.0003, -0.0202, -0.0100,  0.0218,\n",
       "        -0.0090, -0.0013,  0.0112,  0.0252,  0.0149, -0.0031, -0.0261, -0.0110,\n",
       "         0.0186, -0.0187, -0.0313,  0.0027,  0.0224, -0.0228,  0.0273, -0.0320,\n",
       "        -0.0243,  0.0117, -0.0197, -0.0211,  0.0113,  0.0232, -0.0323, -0.0215,\n",
       "         0.0320,  0.0274,  0.0198,  0.0355, -0.0287, -0.0132, -0.0211,  0.0231,\n",
       "         0.0041,  0.0301, -0.0021, -0.0187,  0.0134, -0.0314, -0.0007,  0.0258,\n",
       "        -0.0210,  0.0303, -0.0253, -0.0138,  0.0175, -0.0121,  0.0234,  0.0185,\n",
       "        -0.0335, -0.0192, -0.0192, -0.0176, -0.0063, -0.0145,  0.0045, -0.0026,\n",
       "        -0.0297,  0.0227,  0.0208, -0.0330, -0.0353,  0.0061,  0.0263, -0.0174,\n",
       "        -0.0243,  0.0291,  0.0348, -0.0004,  0.0070, -0.0108, -0.0044, -0.0338,\n",
       "         0.0274,  0.0352,  0.0174,  0.0250,  0.0117, -0.0176, -0.0287,  0.0079,\n",
       "        -0.0105,  0.0299, -0.0030,  0.0326,  0.0173,  0.0337,  0.0014, -0.0302],\n",
       "       requires_grad=True)"
      ]
     },
     "execution_count": 71,
     "metadata": {},
     "output_type": "execute_result"
    }
   ],
   "source": [
    "# using named layers\n",
    "\n",
    "from collections import OrderedDict\n",
    "\n",
    "model = nn.Sequential(\n",
    "    OrderedDict(\n",
    "        [\n",
    "            (\"fc1\", nn.Linear(input_size, hidden_sizes[0])), \n",
    "            (\"relu\", nn.ReLU()),\n",
    "            (\"fc2\", nn.Linear(hidden_sizes[0], hidden_sizes[1])), \n",
    "            (\"relu\", nn.ReLU()),\n",
    "            (\"fc3\", nn.Linear(hidden_sizes[1], hidden_sizes[2])),\n",
    "            (\"relu\", nn.ReLU()),    \n",
    "            (\"fc4\", nn.Linear(hidden_sizes[2], output_size)),\n",
    "            (\"relu\", nn.ReLU()),\n",
    "            (\"softmax\", nn.Softmax(dim = 1))\n",
    "\n",
    "        ]\n",
    "    )\n",
    ")\n",
    "\n",
    "ps = model.forward(images[0, :])\n",
    "model.fc1.weight # to access weights\n",
    "model.fc1.bias # to access bias"
   ]
  }
 ],
 "metadata": {
  "kernelspec": {
   "display_name": "deepl-scratch",
   "language": "python",
   "name": "python3"
  },
  "language_info": {
   "codemirror_mode": {
    "name": "ipython",
    "version": 3
   },
   "file_extension": ".py",
   "mimetype": "text/x-python",
   "name": "python",
   "nbconvert_exporter": "python",
   "pygments_lexer": "ipython3",
   "version": "3.11.6"
  }
 },
 "nbformat": 4,
 "nbformat_minor": 5
}
