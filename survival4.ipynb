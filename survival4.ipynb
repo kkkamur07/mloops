{
 "cells": [
  {
   "cell_type": "markdown",
   "id": "8953df90",
   "metadata": {},
   "source": [
    "#### Trying out Requests and FASTAPI"
   ]
  },
  {
   "cell_type": "code",
   "execution_count": 1,
   "id": "273f4483",
   "metadata": {},
   "outputs": [
    {
     "name": "stdout",
     "output_type": "stream",
     "text": [
      "404\n"
     ]
    }
   ],
   "source": [
    "import requests\n",
    "response = requests.get('https://api.github.com/this-api-should-not-exist')\n",
    "print(response.status_code)"
   ]
  },
  {
   "cell_type": "markdown",
   "id": "c74312c3",
   "metadata": {},
   "source": [
    "As expected we are getting an error because the API Doesn't exist"
   ]
  },
  {
   "cell_type": "code",
   "execution_count": 5,
   "id": "55ed58ef",
   "metadata": {},
   "outputs": [
    {
     "data": {
      "text/plain": [
       "{'id': 355486066,\n",
       " 'node_id': 'MDEwOlJlcG9zaXRvcnkzNTU0ODYwNjY=',\n",
       " 'name': 'dtu_mlops',\n",
       " 'full_name': 'SkafteNicki/dtu_mlops',\n",
       " 'private': False,\n",
       " 'owner': {'login': 'SkafteNicki',\n",
       "  'id': 24896311,\n",
       "  'node_id': 'MDQ6VXNlcjI0ODk2MzEx',\n",
       "  'avatar_url': 'https://avatars.githubusercontent.com/u/24896311?v=4',\n",
       "  'gravatar_id': '',\n",
       "  'url': 'https://api.github.com/users/SkafteNicki',\n",
       "  'html_url': 'https://github.com/SkafteNicki',\n",
       "  'followers_url': 'https://api.github.com/users/SkafteNicki/followers',\n",
       "  'following_url': 'https://api.github.com/users/SkafteNicki/following{/other_user}',\n",
       "  'gists_url': 'https://api.github.com/users/SkafteNicki/gists{/gist_id}',\n",
       "  'starred_url': 'https://api.github.com/users/SkafteNicki/starred{/owner}{/repo}',\n",
       "  'subscriptions_url': 'https://api.github.com/users/SkafteNicki/subscriptions',\n",
       "  'organizations_url': 'https://api.github.com/users/SkafteNicki/orgs',\n",
       "  'repos_url': 'https://api.github.com/users/SkafteNicki/repos',\n",
       "  'events_url': 'https://api.github.com/users/SkafteNicki/events{/privacy}',\n",
       "  'received_events_url': 'https://api.github.com/users/SkafteNicki/received_events',\n",
       "  'type': 'User',\n",
       "  'user_view_type': 'public',\n",
       "  'site_admin': False},\n",
       " 'html_url': 'https://github.com/SkafteNicki/dtu_mlops',\n",
       " 'description': 'Exercises and supplementary material for the machine learning operations course at DTU.',\n",
       " 'fork': False,\n",
       " 'url': 'https://api.github.com/repos/SkafteNicki/dtu_mlops',\n",
       " 'forks_url': 'https://api.github.com/repos/SkafteNicki/dtu_mlops/forks',\n",
       " 'keys_url': 'https://api.github.com/repos/SkafteNicki/dtu_mlops/keys{/key_id}',\n",
       " 'collaborators_url': 'https://api.github.com/repos/SkafteNicki/dtu_mlops/collaborators{/collaborator}',\n",
       " 'teams_url': 'https://api.github.com/repos/SkafteNicki/dtu_mlops/teams',\n",
       " 'hooks_url': 'https://api.github.com/repos/SkafteNicki/dtu_mlops/hooks',\n",
       " 'issue_events_url': 'https://api.github.com/repos/SkafteNicki/dtu_mlops/issues/events{/number}',\n",
       " 'events_url': 'https://api.github.com/repos/SkafteNicki/dtu_mlops/events',\n",
       " 'assignees_url': 'https://api.github.com/repos/SkafteNicki/dtu_mlops/assignees{/user}',\n",
       " 'branches_url': 'https://api.github.com/repos/SkafteNicki/dtu_mlops/branches{/branch}',\n",
       " 'tags_url': 'https://api.github.com/repos/SkafteNicki/dtu_mlops/tags',\n",
       " 'blobs_url': 'https://api.github.com/repos/SkafteNicki/dtu_mlops/git/blobs{/sha}',\n",
       " 'git_tags_url': 'https://api.github.com/repos/SkafteNicki/dtu_mlops/git/tags{/sha}',\n",
       " 'git_refs_url': 'https://api.github.com/repos/SkafteNicki/dtu_mlops/git/refs{/sha}',\n",
       " 'trees_url': 'https://api.github.com/repos/SkafteNicki/dtu_mlops/git/trees{/sha}',\n",
       " 'statuses_url': 'https://api.github.com/repos/SkafteNicki/dtu_mlops/statuses/{sha}',\n",
       " 'languages_url': 'https://api.github.com/repos/SkafteNicki/dtu_mlops/languages',\n",
       " 'stargazers_url': 'https://api.github.com/repos/SkafteNicki/dtu_mlops/stargazers',\n",
       " 'contributors_url': 'https://api.github.com/repos/SkafteNicki/dtu_mlops/contributors',\n",
       " 'subscribers_url': 'https://api.github.com/repos/SkafteNicki/dtu_mlops/subscribers',\n",
       " 'subscription_url': 'https://api.github.com/repos/SkafteNicki/dtu_mlops/subscription',\n",
       " 'commits_url': 'https://api.github.com/repos/SkafteNicki/dtu_mlops/commits{/sha}',\n",
       " 'git_commits_url': 'https://api.github.com/repos/SkafteNicki/dtu_mlops/git/commits{/sha}',\n",
       " 'comments_url': 'https://api.github.com/repos/SkafteNicki/dtu_mlops/comments{/number}',\n",
       " 'issue_comment_url': 'https://api.github.com/repos/SkafteNicki/dtu_mlops/issues/comments{/number}',\n",
       " 'contents_url': 'https://api.github.com/repos/SkafteNicki/dtu_mlops/contents/{+path}',\n",
       " 'compare_url': 'https://api.github.com/repos/SkafteNicki/dtu_mlops/compare/{base}...{head}',\n",
       " 'merges_url': 'https://api.github.com/repos/SkafteNicki/dtu_mlops/merges',\n",
       " 'archive_url': 'https://api.github.com/repos/SkafteNicki/dtu_mlops/{archive_format}{/ref}',\n",
       " 'downloads_url': 'https://api.github.com/repos/SkafteNicki/dtu_mlops/downloads',\n",
       " 'issues_url': 'https://api.github.com/repos/SkafteNicki/dtu_mlops/issues{/number}',\n",
       " 'pulls_url': 'https://api.github.com/repos/SkafteNicki/dtu_mlops/pulls{/number}',\n",
       " 'milestones_url': 'https://api.github.com/repos/SkafteNicki/dtu_mlops/milestones{/number}',\n",
       " 'notifications_url': 'https://api.github.com/repos/SkafteNicki/dtu_mlops/notifications{?since,all,participating}',\n",
       " 'labels_url': 'https://api.github.com/repos/SkafteNicki/dtu_mlops/labels{/name}',\n",
       " 'releases_url': 'https://api.github.com/repos/SkafteNicki/dtu_mlops/releases{/id}',\n",
       " 'deployments_url': 'https://api.github.com/repos/SkafteNicki/dtu_mlops/deployments',\n",
       " 'created_at': '2021-04-07T09:27:30Z',\n",
       " 'updated_at': '2025-06-14T09:44:32Z',\n",
       " 'pushed_at': '2025-06-15T12:46:57Z',\n",
       " 'git_url': 'git://github.com/SkafteNicki/dtu_mlops.git',\n",
       " 'ssh_url': 'git@github.com:SkafteNicki/dtu_mlops.git',\n",
       " 'clone_url': 'https://github.com/SkafteNicki/dtu_mlops.git',\n",
       " 'svn_url': 'https://github.com/SkafteNicki/dtu_mlops',\n",
       " 'homepage': 'https://skaftenicki.github.io/dtu_mlops/',\n",
       " 'size': 458369,\n",
       " 'stargazers_count': 695,\n",
       " 'watchers_count': 695,\n",
       " 'language': 'Python',\n",
       " 'has_issues': True,\n",
       " 'has_projects': True,\n",
       " 'has_downloads': True,\n",
       " 'has_wiki': True,\n",
       " 'has_pages': True,\n",
       " 'has_discussions': False,\n",
       " 'forks_count': 558,\n",
       " 'mirror_url': None,\n",
       " 'archived': False,\n",
       " 'disabled': False,\n",
       " 'open_issues_count': 15,\n",
       " 'license': {'key': 'apache-2.0',\n",
       "  'name': 'Apache License 2.0',\n",
       "  'spdx_id': 'Apache-2.0',\n",
       "  'url': 'https://api.github.com/licenses/apache-2.0',\n",
       "  'node_id': 'MDc6TGljZW5zZTI='},\n",
       " 'allow_forking': True,\n",
       " 'is_template': False,\n",
       " 'web_commit_signoff_required': False,\n",
       " 'topics': [],\n",
       " 'visibility': 'public',\n",
       " 'forks': 558,\n",
       " 'open_issues': 15,\n",
       " 'watchers': 695,\n",
       " 'default_branch': 'main',\n",
       " 'temp_clone_token': None,\n",
       " 'network_count': 558,\n",
       " 'subscribers_count': 9}"
      ]
     },
     "execution_count": 5,
     "metadata": {},
     "output_type": "execute_result"
    }
   ],
   "source": [
    "response=requests.get(\"https://api.github.com/repos/SkafteNicki/dtu_mlops\", params={\"q\" : \"requests+language:python\"})\n",
    "response.json()"
   ]
  },
  {
   "cell_type": "code",
   "execution_count": 6,
   "id": "32dbd33e",
   "metadata": {},
   "outputs": [],
   "source": [
    "import requests\n",
    "response = requests.get('https://imgs.xkcd.com/comics/making_progress.png')\n",
    "\n",
    "with open(r'img.png','wb') as f:\n",
    "    f.write(response.content)"
   ]
  }
 ],
 "metadata": {
  "kernelspec": {
   "display_name": "mloops",
   "language": "python",
   "name": "python3"
  },
  "language_info": {
   "codemirror_mode": {
    "name": "ipython",
    "version": 3
   },
   "file_extension": ".py",
   "mimetype": "text/x-python",
   "name": "python",
   "nbconvert_exporter": "python",
   "pygments_lexer": "ipython3",
   "version": "3.10.11"
  }
 },
 "nbformat": 4,
 "nbformat_minor": 5
}
